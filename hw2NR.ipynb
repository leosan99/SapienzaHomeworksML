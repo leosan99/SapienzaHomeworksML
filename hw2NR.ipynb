{
 "cells": [
  {
   "cell_type": "markdown",
   "metadata": {},
   "source": [
    "# **HOMEWORK 2 batch version**"
   ]
  },
  {
   "cell_type": "code",
   "execution_count": null,
   "metadata": {},
   "outputs": [],
   "source": [
    "#%history -f output.txt"
   ]
  },
  {
   "cell_type": "markdown",
   "metadata": {},
   "source": [
    "# **Libraries importation**"
   ]
  },
  {
   "cell_type": "code",
   "execution_count": 1,
   "metadata": {},
   "outputs": [
    {
     "name": "stderr",
     "output_type": "stream",
     "text": [
      "2023-12-31 11:02:07.959014: I tensorflow/core/util/port.cc:113] oneDNN custom operations are on. You may see slightly different numerical results due to floating-point round-off errors from different computation orders. To turn them off, set the environment variable `TF_ENABLE_ONEDNN_OPTS=0`.\n",
      "2023-12-31 11:02:07.960804: I external/local_tsl/tsl/cuda/cudart_stub.cc:31] Could not find cuda drivers on your machine, GPU will not be used.\n",
      "2023-12-31 11:02:07.988295: E external/local_xla/xla/stream_executor/cuda/cuda_dnn.cc:9261] Unable to register cuDNN factory: Attempting to register factory for plugin cuDNN when one has already been registered\n",
      "2023-12-31 11:02:07.988322: E external/local_xla/xla/stream_executor/cuda/cuda_fft.cc:607] Unable to register cuFFT factory: Attempting to register factory for plugin cuFFT when one has already been registered\n",
      "2023-12-31 11:02:07.989062: E external/local_xla/xla/stream_executor/cuda/cuda_blas.cc:1515] Unable to register cuBLAS factory: Attempting to register factory for plugin cuBLAS when one has already been registered\n",
      "2023-12-31 11:02:07.993567: I external/local_tsl/tsl/cuda/cudart_stub.cc:31] Could not find cuda drivers on your machine, GPU will not be used.\n",
      "2023-12-31 11:02:07.994175: I tensorflow/core/platform/cpu_feature_guard.cc:182] This TensorFlow binary is optimized to use available CPU instructions in performance-critical operations.\n",
      "To enable the following instructions: AVX2 AVX512F AVX512_VNNI FMA, in other operations, rebuild TensorFlow with the appropriate compiler flags.\n",
      "2023-12-31 11:02:08.585995: W tensorflow/compiler/tf2tensorrt/utils/py_utils.cc:38] TF-TRT Warning: Could not find TensorRT\n"
     ]
    },
    {
     "name": "stdout",
     "output_type": "stream",
     "text": [
      "libraries imported\n"
     ]
    }
   ],
   "source": [
    "import os\n",
    "import cv2\n",
    "import scipy\n",
    "import numpy as np \n",
    "import tensorflow as tf\n",
    "from PIL import Image\n",
    "from collections import defaultdict\n",
    "from matplotlib import pyplot as plt \n",
    "from sklearn.utils.class_weight import compute_class_weight\n",
    "from tensorflow import keras\n",
    "from keras.regularizers import l2\n",
    "from tensorflow.keras.models import Sequential\n",
    "from tensorflow.keras.layers import Conv2D, MaxPooling2D, Dense, Flatten, Dropout, BatchNormalization\n",
    "from tensorflow.keras.metrics import Precision, Recall, BinaryAccuracy\n",
    "from tensorflow.keras.optimizers import Adam, SGD\n",
    "from tensorflow.keras.callbacks import EarlyStopping\n",
    "from tensorflow.keras.preprocessing.image import ImageDataGenerator\n",
    "\n",
    "print('libraries imported')"
   ]
  },
  {
   "cell_type": "markdown",
   "metadata": {},
   "source": [
    "# **settings**"
   ]
  },
  {
   "cell_type": "code",
   "execution_count": 2,
   "metadata": {},
   "outputs": [],
   "source": [
    "# Avoid OOM errors by setting GPU memory consumption growth\n",
    "gpus = tf.config.experimental.list_physical_devices('GPU')\n",
    "for gpu in gpus:\n",
    "    tf.config.experimental.set_memory_growth(gpu, True)"
   ]
  },
  {
   "cell_type": "markdown",
   "metadata": {},
   "source": [
    "# **Data Collection**"
   ]
  },
  {
   "cell_type": "markdown",
   "metadata": {},
   "source": [
    "## **Data Augmentation**"
   ]
  },
  {
   "cell_type": "code",
   "execution_count": 3,
   "metadata": {},
   "outputs": [],
   "source": [
    "datagen_train = ImageDataGenerator(\n",
    "    rotation_range=40,\n",
    "    width_shift_range=0.15,\n",
    "    height_shift_range=0.15,\n",
    "    shear_range=0.2,\n",
    "    zoom_range=0,\n",
    "    horizontal_flip=False,\n",
    "    vertical_flip=False,\n",
    "    rescale=1./96,\n",
    "    validation_split=0.2\n",
    ")\n",
    "\n",
    "datagen_val = ImageDataGenerator(\n",
    "    rescale=1./96,\n",
    "    validation_split=0.2,\n",
    "    horizontal_flip=False,\n",
    "    vertical_flip=False,\n",
    ")\n",
    "\n",
    "datagen = ImageDataGenerator(\n",
    "    rotation_range=40,\n",
    "    width_shift_range=0.15,\n",
    "    height_shift_range=0.15,\n",
    "    shear_range=0.2,\n",
    "    zoom_range=0,\n",
    "    horizontal_flip=False,\n",
    "    rescale=1./96,\n",
    "    fill_mode='nearest',\n",
    ")\n",
    "\n",
    "datablanket = ImageDataGenerator(\n",
    "    rescale=1./96,\n",
    ")"
   ]
  },
  {
   "cell_type": "code",
   "execution_count": 14,
   "metadata": {},
   "outputs": [
    {
     "name": "stdout",
     "output_type": "stream",
     "text": [
      "Found 6369 images belonging to 5 classes.\n",
      "Found 0 images belonging to 5 classes.\n"
     ]
    }
   ],
   "source": [
    "Train = datablanket.flow_from_directory(\n",
    "    'train',\n",
    "    target_size=(96,96),\n",
    "    batch_size=32,\n",
    "    class_mode='categorical',\n",
    "    subset='training'\n",
    ")\n",
    "\n",
    "Val = datablanket.flow_from_directory(\n",
    "    'train',\n",
    "    target_size=(96,96),\n",
    "    batch_size=32,\n",
    "    class_mode='categorical',\n",
    "    subset = 'validation',\n",
    ")\n",
    "\n",
    "train_labels = []\n",
    "train_labels = Train.classes\n",
    "num_classes = Train.num_classes\n",
    "train_labels_one_hot = tf.keras.utils.to_categorical(train_labels, num_classes=num_classes)"
   ]
  },
  {
   "cell_type": "markdown",
   "metadata": {},
   "source": [
    "## **Data Load**"
   ]
  },
  {
   "cell_type": "markdown",
   "metadata": {},
   "source": [
    "### **Load without validation**"
   ]
  },
  {
   "cell_type": "code",
   "execution_count": null,
   "metadata": {},
   "outputs": [],
   "source": [
    "Train = datagen.flow_from_directory(\n",
    "    'train',\n",
    "    target_size=(96,96),\n",
    "    batch_size=32,\n",
    "    class_mode='categorical'\n",
    ")\n",
    "\n",
    "train_labels = []\n",
    "train_labels = Train.classes\n",
    "num_classes = Train.num_classes\n",
    "train_labels_one_hot = tf.keras.utils.to_categorical(train_labels, num_classes=num_classes)"
   ]
  },
  {
   "cell_type": "markdown",
   "metadata": {},
   "source": [
    "### **Load with validation**"
   ]
  },
  {
   "cell_type": "code",
   "execution_count": null,
   "metadata": {},
   "outputs": [],
   "source": [
    "Train = datagen_train.flow_from_directory(\n",
    "    'train',\n",
    "    target_size=(96,96),\n",
    "    batch_size=32,\n",
    "    class_mode='categorical',\n",
    "    subset='training'\n",
    ")\n",
    "\n",
    "Val = datagen_val.flow_from_directory(\n",
    "    'train',\n",
    "    target_size=(96,96),\n",
    "    batch_size=32,\n",
    "    class_mode='categorical',\n",
    "    subset='validation'\n",
    ")\n",
    "\n",
    "train_labels = []\n",
    "train_labels = Train.classes\n",
    "num_classes = Train.num_classes\n",
    "train_labels_one_hot = tf.keras.utils.to_categorical(train_labels, num_classes=num_classes)"
   ]
  },
  {
   "cell_type": "markdown",
   "metadata": {},
   "source": [
    "## **Visualization of the dataset**"
   ]
  },
  {
   "cell_type": "code",
   "execution_count": 5,
   "metadata": {},
   "outputs": [],
   "source": [
    "def visualize_dataset(dataset, num_samples=5):\n",
    "    for images, labels in dataset:\n",
    "        num_samples_batch = min(num_samples, len(images))\n",
    "        fig, ax = plt.subplots(1, num_samples_batch, figsize=(20, 20))\n",
    "        \n",
    "        for i in range(num_samples_batch):\n",
    "            ax[i].imshow((images[i] * 96).astype(\"uint8\"))  # Remove the rescaling here\n",
    "            ax[i].set_title(f\"Label: {labels[i]}\")\n",
    "            ax[i].axis(\"off\")\n",
    "        \n",
    "        plt.show()\n",
    "        break\n",
    "\n",
    "\n",
    "# num_samples = 5\n",
    "# for images, labels in Train.take(1):\n",
    "#     num_samples_batch = min(num_samples, len(images))\n",
    "#     fig, ax = plt.subplots(1, num_samples_batch, figsize=(20, 20))\n",
    "#     for i in range(num_samples):\n",
    "#         ax[i].imshow(images[i].numpy().astype(\"uint8\"))\n",
    "#         ax[i].set_title(f\"Label: {labels[i]}\")\n",
    "#         ax[i].axis(\"off\")\n",
    "#     plt.show()"
   ]
  },
  {
   "cell_type": "code",
   "execution_count": 6,
   "metadata": {},
   "outputs": [
    {
     "data": {
      "image/png": "[encoded data removed]",
      "text/plain": [
       "<Figure size 2000x2000 with 5 Axes>"
      ]
     },
     "metadata": {},
     "output_type": "display_data"
    }
   ],
   "source": [
    "visualize_dataset(Train)"
   ]
  },
  {
   "cell_type": "markdown",
   "metadata": {},
   "source": [
    "# **Data Preprocessing**\n",
    "-    Resize images to a common size (e.g., 96x96, as mentioned in the description).\n",
    "-    Normalize pixel values to a range between 0 and 1.\n",
    "-    Consider data augmentation techniques (e.g., rotation, flipping) to increase the diversity of your training set.    "
   ]
  },
  {
   "cell_type": "markdown",
   "metadata": {},
   "source": [
    "# **Model Selection:**\n",
    "## Model Design\n",
    "-    Define your own CNN architecture. Start with a simple architecture and gradually increase complexity if needed.\n",
    "-    Experiment with different layer configurations, activation functions, and filter sizes.\n",
    "-    Consider incorporating dropout for regularization."
   ]
  },
  {
   "cell_type": "markdown",
   "metadata": {},
   "source": [
    "## **Approach 1**\n",
    "-   First Architecture aims to be narrow and deep\n",
    "-   Choose appropriate hyperparameters (learning rate, batch size, etc.).\n"
   ]
  },
  {
   "cell_type": "code",
   "execution_count": null,
   "metadata": {},
   "outputs": [],
   "source": [
    "model = Sequential()"
   ]
  },
  {
   "cell_type": "code",
   "execution_count": null,
   "metadata": {},
   "outputs": [],
   "source": [
    "# Layers\n",
    "# (3,3) is the pixel selection, 1 is the translation of pixels\n",
    "model.add(Conv2D(32, (3,3), activation='relu', input_shape=(256,256,3)))\n",
    "model.add(MaxPooling2D())\n",
    "model.add(Dropout(0.25))\n",
    "\n",
    "model.add(Conv2D(64, (3,3), activation='relu'))\n",
    "model.add(MaxPooling2D())\n",
    "model.add(Dropout(0.25))\n",
    "\n",
    "model.add(Conv2D(128, (3,3), activation='relu'))\n",
    "model.add(MaxPooling2D())\n",
    "model.add(Dropout(0.25))\n",
    "\n",
    "model.add(Flatten())\n",
    "\n",
    "model.add(Dense(512, activation='relu'))\n",
    "model.add(Dropout(0.5)) # Dropout layer to reduce overfitting\n",
    "\n",
    "num_classes = 5\n",
    "model.add(Dense(num_classes, activation='softmax'))"
   ]
  },
  {
   "cell_type": "code",
   "execution_count": null,
   "metadata": {},
   "outputs": [],
   "source": [
    "optimizer = Adam(learning_rate=0.001)"
   ]
  },
  {
   "cell_type": "markdown",
   "metadata": {},
   "source": [
    "**Validation ON**"
   ]
  },
  {
   "cell_type": "code",
   "execution_count": null,
   "metadata": {},
   "outputs": [],
   "source": [
    "metrics = ['accuracy', 'val_accuracy']"
   ]
  },
  {
   "cell_type": "markdown",
   "metadata": {},
   "source": [
    "**Validation OFF**"
   ]
  },
  {
   "cell_type": "code",
   "execution_count": null,
   "metadata": {},
   "outputs": [],
   "source": [
    "metrics = ['accuracy']"
   ]
  },
  {
   "cell_type": "code",
   "execution_count": null,
   "metadata": {},
   "outputs": [],
   "source": [
    "model.compile(optimizer, loss=tf._losses.CategoricalCrossentropy(), metrics=metrics)"
   ]
  },
  {
   "cell_type": "code",
   "execution_count": null,
   "metadata": {},
   "outputs": [],
   "source": [
    "model.summary()"
   ]
  },
  {
   "cell_type": "markdown",
   "metadata": {},
   "source": [
    "## **Approach 2**\n",
    "-   Second architecture aims to be wider and less deep\n",
    "-    Adjust hyperparameters independently of the first approach.\n"
   ]
  },
  {
   "cell_type": "code",
   "execution_count": 7,
   "metadata": {},
   "outputs": [],
   "source": [
    "# model = Sequential()\n",
    "\n",
    "# # feature learning\n",
    "# model.add(Conv2D(96, (3, 3), strides=(1, 1), activation='relu', input_shape=(96, 96, 3)))\n",
    "# model.add(MaxPooling2D((2, 2), strides=(1, 1)))\n",
    "# model.add(BatchNormalization())\n",
    "\n",
    "# model.add(Conv2D(256, (3, 3), strides=(1, 1), activation='relu'))\n",
    "# model.add(MaxPooling2D((2, 2), strides=(1, 1)))\n",
    "# model.add(BatchNormalization())\n",
    "\n",
    "# model.add(Conv2D(384, (3, 3), strides=(1, 1), activation='relu'))\n",
    "# model.add(MaxPooling2D((2, 2), strides=(1, 1)))\n",
    "# model.add(BatchNormalization())\n",
    "\n",
    "# # classification\n",
    "# model.add(Flatten())\n",
    "\n",
    "# model.add(Dense(4096, activation='relu', kernel_regularizer=l2(0.0001)))\n",
    "# model.add(Dropout(0.4))\n",
    "# model.add(BatchNormalization())\n",
    "\n",
    "# num_classes = 5\n",
    "# model.add(Dense(num_classes, activation='softmax'))\n",
    "\n",
    "model = Sequential()\n",
    "\n",
    "# Feature learning\n",
    "model.add(Conv2D(32, 3, activation='relu', input_shape=(96, 96, 3)))\n",
    "model.add(MaxPooling2D(2, 2))\n",
    "model.add(BatchNormalization()) \n",
    "model.add(Dropout(0.05))\n",
    "\n",
    "model.add(Conv2D(64, 3, activation='relu', kernel_regularizer=l2(0.001)))\n",
    "model.add(MaxPooling2D(2, 2))\n",
    "model.add(BatchNormalization())\n",
    "model.add(Dropout(0.1))\n",
    "\n",
    "model.add(Conv2D(64, 3, activation='relu', kernel_regularizer=l2(0.001)))\n",
    "model.add(MaxPooling2D(2, 2))\n",
    "model.add(BatchNormalization())\n",
    "model.add(Dropout(0.2))\n",
    "\n",
    "model.add(Conv2D(128, 3, activation='relu', kernel_regularizer=l2(0.001)))\n",
    "model.add(MaxPooling2D(2, 2))\n",
    "model.add(Dropout(0.3))\n",
    "\n",
    "model.add(Conv2D(1256, 3, activation='relu', kernel_regularizer=l2(0.001)))\n",
    "model.add(MaxPooling2D(2, 2))\n",
    "model.add(Dropout(0.4))\n",
    "\n",
    "# classification\n",
    "model.add(Flatten())\n",
    "\n",
    "model.add(Dense(512, activation='relu', kernel_regularizer=l2(0.001)))\n",
    "model.add(Dropout(0.5))\n",
    "\n",
    "num_classes = 5\n",
    "model.add(Dense(num_classes, activation='softmax'))"
   ]
  },
  {
   "cell_type": "markdown",
   "metadata": {},
   "source": [
    "**Optimizer Adam**"
   ]
  },
  {
   "cell_type": "code",
   "execution_count": 8,
   "metadata": {},
   "outputs": [],
   "source": [
    "beta_1 = 0.9\n",
    "beta_2 = 0.999\n",
    "optimizer = Adam(learning_rate=0.0001, beta_1=beta_1, beta_2=beta_2)\n",
    "loss = keras.losses.CategoricalCrossentropy()"
   ]
  },
  {
   "cell_type": "markdown",
   "metadata": {},
   "source": [
    "**Optimizer SGD**"
   ]
  },
  {
   "cell_type": "code",
   "execution_count": null,
   "metadata": {},
   "outputs": [],
   "source": [
    "optimizer=SGD(learning_rate=0.01, momentum=0.9)"
   ]
  },
  {
   "cell_type": "markdown",
   "metadata": {},
   "source": [
    "**Validation ON**"
   ]
  },
  {
   "cell_type": "code",
   "execution_count": 9,
   "metadata": {},
   "outputs": [
    {
     "name": "stdout",
     "output_type": "stream",
     "text": [
      "conv2d: Input shape - (None, 96, 96, 3)\n",
      "max_pooling2d: Input shape - (None, 94, 94, 32)\n",
      "batch_normalization: Input shape - (None, 47, 47, 32)\n",
      "dropout: Input shape - (None, 47, 47, 32)\n",
      "conv2d_1: Input shape - (None, 47, 47, 32)\n",
      "max_pooling2d_1: Input shape - (None, 45, 45, 64)\n",
      "batch_normalization_1: Input shape - (None, 22, 22, 64)\n",
      "dropout_1: Input shape - (None, 22, 22, 64)\n",
      "conv2d_2: Input shape - (None, 22, 22, 64)\n",
      "max_pooling2d_2: Input shape - (None, 20, 20, 64)\n",
      "batch_normalization_2: Input shape - (None, 10, 10, 64)\n",
      "dropout_2: Input shape - (None, 10, 10, 64)\n",
      "conv2d_3: Input shape - (None, 10, 10, 64)\n",
      "max_pooling2d_3: Input shape - (None, 8, 8, 128)\n",
      "dropout_3: Input shape - (None, 4, 4, 128)\n",
      "conv2d_4: Input shape - (None, 4, 4, 128)\n",
      "max_pooling2d_4: Input shape - (None, 2, 2, 1256)\n",
      "dropout_4: Input shape - (None, 1, 1, 1256)\n",
      "flatten: Input shape - (None, 1, 1, 1256)\n",
      "dense: Input shape - (None, 1256)\n",
      "dropout_5: Input shape - (None, 512)\n",
      "dense_1: Input shape - (None, 512)\n"
     ]
    }
   ],
   "source": [
    "model.compile(optimizer=optimizer, loss=loss, metrics=['accuracy'])\n",
    "\n",
    "for layer in model.layers:\n",
    "    print(f\"{layer.name}: Input shape - {layer.input_shape}\")"
   ]
  },
  {
   "cell_type": "code",
   "execution_count": 10,
   "metadata": {},
   "outputs": [
    {
     "name": "stdout",
     "output_type": "stream",
     "text": [
      "Model: \"sequential\"\n",
      "_________________________________________________________________\n",
      " Layer (type)                Output Shape              Param #   \n",
      "=================================================================\n",
      " conv2d (Conv2D)             (None, 94, 94, 32)        896       \n",
      "                                                                 \n",
      " max_pooling2d (MaxPooling2  (None, 47, 47, 32)        0         \n",
      " D)                                                              \n",
      "                                                                 \n",
      " batch_normalization (Batch  (None, 47, 47, 32)        128       \n",
      " Normalization)                                                  \n",
      "                                                                 \n",
      " dropout (Dropout)           (None, 47, 47, 32)        0         \n",
      "                                                                 \n",
      " conv2d_1 (Conv2D)           (None, 45, 45, 64)        18496     \n",
      "                                                                 \n",
      " max_pooling2d_1 (MaxPoolin  (None, 22, 22, 64)        0         \n",
      " g2D)                                                            \n",
      "                                                                 \n",
      " batch_normalization_1 (Bat  (None, 22, 22, 64)        256       \n",
      " chNormalization)                                                \n",
      "                                                                 \n",
      " dropout_1 (Dropout)         (None, 22, 22, 64)        0         \n",
      "                                                                 \n",
      " conv2d_2 (Conv2D)           (None, 20, 20, 64)        36928     \n",
      "                                                                 \n",
      " max_pooling2d_2 (MaxPoolin  (None, 10, 10, 64)        0         \n",
      " g2D)                                                            \n",
      "                                                                 \n",
      " batch_normalization_2 (Bat  (None, 10, 10, 64)        256       \n",
      " chNormalization)                                                \n",
      "                                                                 \n",
      " dropout_2 (Dropout)         (None, 10, 10, 64)        0         \n",
      "                                                                 \n",
      " conv2d_3 (Conv2D)           (None, 8, 8, 128)         73856     \n",
      "                                                                 \n",
      " max_pooling2d_3 (MaxPoolin  (None, 4, 4, 128)         0         \n",
      " g2D)                                                            \n",
      "                                                                 \n",
      " dropout_3 (Dropout)         (None, 4, 4, 128)         0         \n",
      "                                                                 \n",
      " conv2d_4 (Conv2D)           (None, 2, 2, 1256)        1448168   \n",
      "                                                                 \n",
      " max_pooling2d_4 (MaxPoolin  (None, 1, 1, 1256)        0         \n",
      " g2D)                                                            \n",
      "                                                                 \n",
      " dropout_4 (Dropout)         (None, 1, 1, 1256)        0         \n",
      "                                                                 \n",
      " flatten (Flatten)           (None, 1256)              0         \n",
      "                                                                 \n",
      " dense (Dense)               (None, 512)               643584    \n",
      "                                                                 \n",
      " dropout_5 (Dropout)         (None, 512)               0         \n",
      "                                                                 \n",
      " dense_1 (Dense)             (None, 5)                 2565      \n",
      "                                                                 \n",
      "=================================================================\n",
      "Total params: 2225133 (8.49 MB)\n",
      "Trainable params: 2224813 (8.49 MB)\n",
      "Non-trainable params: 320 (1.25 KB)\n",
      "_________________________________________________________________\n"
     ]
    }
   ],
   "source": [
    "model.summary()"
   ]
  },
  {
   "cell_type": "markdown",
   "metadata": {},
   "source": [
    "**Validation OFF**"
   ]
  },
  {
   "cell_type": "code",
   "execution_count": null,
   "metadata": {},
   "outputs": [],
   "source": [
    "model.compile(optimizer, loss=tf._losses.CategoricalCrossentropy(), metrics=['accuracy'])\n",
    "\n",
    "model.summary()\n",
    "for layer in model.layers:\n",
    "    print(layer.output_shape)"
   ]
  },
  {
   "cell_type": "markdown",
   "metadata": {},
   "source": [
    "## **Hyperparameter Analysis**\n",
    "-   Choose at least one hyperparameter (e.g., learning rate) and perform a systematic analysis.\n",
    "-   Train models with different values of the chosen hyperparameter.\n",
    "-   Compare and visualize the impact on metrics.\n",
    "-   Consider to apply an early stopping of the training in order to avoid overfitting (see slide 11 pag 55)\n",
    "-   Consider if to apply Dropout or parameter sharing\n"
   ]
  },
  {
   "cell_type": "markdown",
   "metadata": {},
   "source": [
    "# **Model Training**"
   ]
  },
  {
   "cell_type": "code",
   "execution_count": 11,
   "metadata": {},
   "outputs": [],
   "source": [
    "logdir = 'logs'\n",
    "tensorboard_callback = tf.keras.callbacks.TensorBoard(log_dir=logdir)"
   ]
  },
  {
   "cell_type": "code",
   "execution_count": 15,
   "metadata": {},
   "outputs": [],
   "source": [
    "class_labels = np.unique(train_labels)\n",
    "class_weights = compute_class_weight(class_weight='balanced', classes=np.unique(train_labels), y=train_labels)\n",
    "class_weights_dict = dict(zip(class_labels, class_weights))"
   ]
  },
  {
   "cell_type": "markdown",
   "metadata": {},
   "source": [
    "### **Fitting with early stopping**"
   ]
  },
  {
   "cell_type": "markdown",
   "metadata": {},
   "source": [
    "#### **validation OFF**"
   ]
  },
  {
   "cell_type": "code",
   "execution_count": null,
   "metadata": {},
   "outputs": [],
   "source": [
    "early_stopping = EarlyStopping(monitor='val_loss', patience=5, restore_best_weights=True)\n",
    "hist = model.fit(Train, epochs=20, callbacks=[tensorboard_callback, early_stopping], class_weight=class_weights_dict)"
   ]
  },
  {
   "cell_type": "markdown",
   "metadata": {},
   "source": [
    "#### **validation ON**"
   ]
  },
  {
   "cell_type": "code",
   "execution_count": 16,
   "metadata": {},
   "outputs": [
    {
     "name": "stdout",
     "output_type": "stream",
     "text": [
      "Epoch 1/20\n",
      "200/200 [==============================] - ETA: 0s - loss: 2.7256 - accuracy: 0.3321WARNING:tensorflow:Early stopping conditioned on metric `val_loss` which is not available. Available metrics are: loss,accuracy\n",
      "200/200 [==============================] - 21s 98ms/step - loss: 2.7256 - accuracy: 0.3321\n",
      "Epoch 2/20\n",
      "200/200 [==============================] - ETA: 0s - loss: 2.5263 - accuracy: 0.4390WARNING:tensorflow:Early stopping conditioned on metric `val_loss` which is not available. Available metrics are: loss,accuracy\n",
      "200/200 [==============================] - 20s 101ms/step - loss: 2.5263 - accuracy: 0.4390\n",
      "Epoch 3/20\n",
      "200/200 [==============================] - ETA: 0s - loss: 2.4687 - accuracy: 0.4538WARNING:tensorflow:Early stopping conditioned on metric `val_loss` which is not available. Available metrics are: loss,accuracy\n",
      "200/200 [==============================] - 20s 100ms/step - loss: 2.4687 - accuracy: 0.4538\n",
      "Epoch 4/20\n",
      "200/200 [==============================] - ETA: 0s - loss: 2.3982 - accuracy: 0.4753WARNING:tensorflow:Early stopping conditioned on metric `val_loss` which is not available. Available metrics are: loss,accuracy\n",
      "200/200 [==============================] - 20s 100ms/step - loss: 2.3982 - accuracy: 0.4753\n",
      "Epoch 5/20\n",
      "200/200 [==============================] - ETA: 0s - loss: 2.3260 - accuracy: 0.4903WARNING:tensorflow:Early stopping conditioned on metric `val_loss` which is not available. Available metrics are: loss,accuracy\n",
      "200/200 [==============================] - 20s 101ms/step - loss: 2.3260 - accuracy: 0.4903\n",
      "Epoch 6/20\n",
      "200/200 [==============================] - ETA: 0s - loss: 2.2766 - accuracy: 0.5012WARNING:tensorflow:Early stopping conditioned on metric `val_loss` which is not available. Available metrics are: loss,accuracy\n",
      "200/200 [==============================] - 20s 101ms/step - loss: 2.2766 - accuracy: 0.5012\n",
      "Epoch 7/20\n",
      "200/200 [==============================] - ETA: 0s - loss: 2.2358 - accuracy: 0.5064WARNING:tensorflow:Early stopping conditioned on metric `val_loss` which is not available. Available metrics are: loss,accuracy\n",
      "200/200 [==============================] - 20s 102ms/step - loss: 2.2358 - accuracy: 0.5064\n",
      "Epoch 8/20\n",
      "200/200 [==============================] - ETA: 0s - loss: 2.1849 - accuracy: 0.5158WARNING:tensorflow:Early stopping conditioned on metric `val_loss` which is not available. Available metrics are: loss,accuracy\n",
      "200/200 [==============================] - 21s 104ms/step - loss: 2.1849 - accuracy: 0.5158\n",
      "Epoch 9/20\n",
      "200/200 [==============================] - ETA: 0s - loss: 2.1493 - accuracy: 0.5233WARNING:tensorflow:Early stopping conditioned on metric `val_loss` which is not available. Available metrics are: loss,accuracy\n",
      "200/200 [==============================] - 20s 102ms/step - loss: 2.1493 - accuracy: 0.5233\n",
      "Epoch 10/20\n",
      "200/200 [==============================] - ETA: 0s - loss: 2.1077 - accuracy: 0.5367WARNING:tensorflow:Early stopping conditioned on metric `val_loss` which is not available. Available metrics are: loss,accuracy\n",
      "200/200 [==============================] - 21s 104ms/step - loss: 2.1077 - accuracy: 0.5367\n",
      "Epoch 11/20\n",
      "200/200 [==============================] - ETA: 0s - loss: 2.0559 - accuracy: 0.5516WARNING:tensorflow:Early stopping conditioned on metric `val_loss` which is not available. Available metrics are: loss,accuracy\n",
      "200/200 [==============================] - 21s 103ms/step - loss: 2.0559 - accuracy: 0.5516\n",
      "Epoch 12/20\n",
      "200/200 [==============================] - ETA: 0s - loss: 2.0191 - accuracy: 0.5494WARNING:tensorflow:Early stopping conditioned on metric `val_loss` which is not available. Available metrics are: loss,accuracy\n",
      "200/200 [==============================] - 21s 105ms/step - loss: 2.0191 - accuracy: 0.5494\n",
      "Epoch 13/20\n",
      "200/200 [==============================] - ETA: 0s - loss: 1.9867 - accuracy: 0.5458WARNING:tensorflow:Early stopping conditioned on metric `val_loss` which is not available. Available metrics are: loss,accuracy\n",
      "200/200 [==============================] - 20s 101ms/step - loss: 1.9867 - accuracy: 0.5458\n",
      "Epoch 14/20\n",
      "200/200 [==============================] - ETA: 0s - loss: 1.9427 - accuracy: 0.5577WARNING:tensorflow:Early stopping conditioned on metric `val_loss` which is not available. Available metrics are: loss,accuracy\n",
      "200/200 [==============================] - 20s 101ms/step - loss: 1.9427 - accuracy: 0.5577\n",
      "Epoch 15/20\n",
      "200/200 [==============================] - ETA: 0s - loss: 1.9167 - accuracy: 0.5602WARNING:tensorflow:Early stopping conditioned on metric `val_loss` which is not available. Available metrics are: loss,accuracy\n",
      "200/200 [==============================] - 20s 101ms/step - loss: 1.9167 - accuracy: 0.5602\n",
      "Epoch 16/20\n",
      "200/200 [==============================] - ETA: 0s - loss: 1.8843 - accuracy: 0.5654WARNING:tensorflow:Early stopping conditioned on metric `val_loss` which is not available. Available metrics are: loss,accuracy\n",
      "200/200 [==============================] - 20s 102ms/step - loss: 1.8843 - accuracy: 0.5654\n",
      "Epoch 17/20\n",
      "200/200 [==============================] - ETA: 0s - loss: 1.8503 - accuracy: 0.5549WARNING:tensorflow:Early stopping conditioned on metric `val_loss` which is not available. Available metrics are: loss,accuracy\n",
      "200/200 [==============================] - 21s 103ms/step - loss: 1.8503 - accuracy: 0.5549\n",
      "Epoch 18/20\n",
      "200/200 [==============================] - ETA: 0s - loss: 1.8332 - accuracy: 0.5670WARNING:tensorflow:Early stopping conditioned on metric `val_loss` which is not available. Available metrics are: loss,accuracy\n",
      "200/200 [==============================] - 22s 112ms/step - loss: 1.8332 - accuracy: 0.5670\n",
      "Epoch 19/20\n",
      "200/200 [==============================] - ETA: 0s - loss: 1.7973 - accuracy: 0.5596WARNING:tensorflow:Early stopping conditioned on metric `val_loss` which is not available. Available metrics are: loss,accuracy\n",
      "200/200 [==============================] - 24s 120ms/step - loss: 1.7973 - accuracy: 0.5596\n",
      "Epoch 20/20\n",
      "200/200 [==============================] - ETA: 0s - loss: 1.7498 - accuracy: 0.5797WARNING:tensorflow:Early stopping conditioned on metric `val_loss` which is not available. Available metrics are: loss,accuracy\n",
      "200/200 [==============================] - 22s 111ms/step - loss: 1.7498 - accuracy: 0.5797\n"
     ]
    }
   ],
   "source": [
    "early_stopping = EarlyStopping(\n",
    "    monitor='val_loss', \n",
    "    patience=5, \n",
    "    restore_best_weights=True)\n",
    "\n",
    "hist = model.fit(\n",
    "    Train,\n",
    "    epochs=20,\n",
    "    callbacks=[tensorboard_callback, early_stopping], \n",
    "    validation_data=Val, \n",
    "    validation_steps=Val.samples // Val.batch_size, \n",
    "    class_weight=class_weights_dict)"
   ]
  },
  {
   "cell_type": "markdown",
   "metadata": {},
   "source": [
    "### **Fitting without early stopping**"
   ]
  },
  {
   "cell_type": "markdown",
   "metadata": {},
   "source": [
    "#### **Validation OFF**"
   ]
  },
  {
   "cell_type": "code",
   "execution_count": null,
   "metadata": {},
   "outputs": [],
   "source": [
    "hist = model.fit(Train, epochs=20, callbacks=[tensorboard_callback], class_weight=class_weights_dict)"
   ]
  },
  {
   "cell_type": "markdown",
   "metadata": {},
   "source": [
    "#### **Validation ON**"
   ]
  },
  {
   "cell_type": "code",
   "execution_count": null,
   "metadata": {},
   "outputs": [],
   "source": [
    "hist = model.fit(Train, epochs=20, callbacks=[tensorboard_callback], validation_data=Val, class_weight=class_weights_dict)"
   ]
  },
  {
   "cell_type": "markdown",
   "metadata": {},
   "source": [
    "## **Plotting Model Performance**"
   ]
  },
  {
   "cell_type": "markdown",
   "metadata": {},
   "source": [
    "### **Validation ON**"
   ]
  },
  {
   "cell_type": "code",
   "execution_count": null,
   "metadata": {},
   "outputs": [],
   "source": [
    "fig, (ax1, ax2) = plt.subplots(1, 2, figsize=(15, 5))\n",
    "\n",
    "ax1.plot(hist.history['loss'], color='teal', label='train_loss')\n",
    "ax1.plot(hist.history['val_loss'], color='orange', label='val_loss')  # Validation loss\n",
    "ax1.set_title('Loss')\n",
    "ax1.legend()\n",
    "\n",
    "ax2.plot(hist.history['accuracy'], color='teal', label='train_accuracy')\n",
    "ax2.plot(hist.history['val_accuracy'], color='orange', label='val_accuracy')  # Validation accuracy\n",
    "ax2.set_title('Accuracy')\n",
    "ax2.legend()\n",
    "\n",
    "plt.show()"
   ]
  },
  {
   "cell_type": "markdown",
   "metadata": {},
   "source": [
    "### **Validation OFF**"
   ]
  },
  {
   "cell_type": "code",
   "execution_count": null,
   "metadata": {},
   "outputs": [],
   "source": [
    "fig, (ax1, ax2) = plt.subplots(1, 2, figsize=(15, 5))\n",
    "\n",
    "ax1.plot(hist.history['loss'], color='teal', label='train_loss')\n",
    "ax1.set_title('Loss')\n",
    "ax1.legend()\n",
    "\n",
    "ax2.plot(hist.history['accuracy'], color='teal', label='train_accuracy')\n",
    "ax2.set_title('Accuracy')\n",
    "ax2.legend()\n",
    "\n",
    "plt.show()"
   ]
  },
  {
   "cell_type": "markdown",
   "metadata": {},
   "source": [
    "# **Test**"
   ]
  },
  {
   "cell_type": "code",
   "execution_count": null,
   "metadata": {},
   "outputs": [],
   "source": [
    "Test = tf.keras.utils.image_dataset_from_directory('test')\n",
    "test_iterator = Test.as_numpy_iterator()\n",
    "\n",
    "all_X_test = []\n",
    "all_y_test = []\n",
    "\n",
    "for test_batch in test_iterator:\n",
    "    X_test_batch, y_test_batch = test_batch\n",
    "    X_test_normalized_batch = X_test_batch/96.0\n",
    "    yhat_batch = model.predict(X_test_normalized_batch)\n",
    "    all_X_test.append(X_test_normalized_batch)\n",
    "    all_y_test.append(y_test_batch)\n",
    "\n",
    "X_test_normalized = np.concatenate(all_X_test)\n",
    "y_test = np.concatenate(all_y_test)\n",
    "\n",
    "test_iterator = Test.as_numpy_iterator()\n",
    "Test_batch = next(test_iterator)\n",
    "X_test, y_test = Test_batch\n",
    "X_test_normalized = X_test/96.0"
   ]
  },
  {
   "cell_type": "code",
   "execution_count": null,
   "metadata": {},
   "outputs": [],
   "source": [
    "yhat = model.predict(X_test_normalized)"
   ]
  },
  {
   "cell_type": "code",
   "execution_count": null,
   "metadata": {},
   "outputs": [],
   "source": [
    "pre = Precision()\n",
    "re = Recall()\n",
    "acc = BinaryAccuracy()"
   ]
  },
  {
   "cell_type": "code",
   "execution_count": null,
   "metadata": {},
   "outputs": [],
   "source": [
    "for batch in Test.as_numpy_iterator():\n",
    "    X, y = batch\n",
    "    yhat = model.predict(X)\n",
    "    y_one_hot = tf.keras.utils.to_categorical(y, num_classes=num_classes)\n",
    "    pre.update_state(y_one_hot, yhat)\n",
    "    re.update_state(y_one_hot, yhat)\n",
    "    acc.update_state(y_one_hot, yhat)                                    "
   ]
  },
  {
   "cell_type": "code",
   "execution_count": null,
   "metadata": {},
   "outputs": [],
   "source": [
    "print(f'Precision:{pre.result().numpy()}, Recall:{re.result().numpy()}, Accuracy:{acc.result().numpy()}')"
   ]
  },
  {
   "cell_type": "markdown",
   "metadata": {},
   "source": [
    "# **Results Visualization and Comparison**\n",
    "-    Create visualizations (tables, charts, graphs) to present your results.\n",
    "-    Provide detailed commentary on each visualization, explaining trends or differences observed."
   ]
  },
  {
   "cell_type": "markdown",
   "metadata": {},
   "source": [
    "## **Comparison on accuracy between methods**"
   ]
  },
  {
   "cell_type": "markdown",
   "metadata": {},
   "source": [
    "### **On train and validation**"
   ]
  },
  {
   "cell_type": "code",
   "execution_count": null,
   "metadata": {},
   "outputs": [],
   "source": [
    "fig = plt.figure(figsize=(16, 8))\n",
    "plt.plot(hist.history['accuracy'], color='teal', label='train_accuracy')\n",
    "plt.plot(hist.history['val_accuracy'], color='orange', label='val_accuracy')\n",
    "plt.suptitle('Model accuracy comparison on train and validation', fontsize=14)\n",
    "plt.legend(loc=\"upper left\")\n",
    "plt.show()"
   ]
  },
  {
   "cell_type": "markdown",
   "metadata": {},
   "source": [
    "### **On Test**"
   ]
  },
  {
   "cell_type": "code",
   "execution_count": null,
   "metadata": {},
   "outputs": [],
   "source": [
    "fig=plt.figure(figsize=(16, 8))\n",
    "fig = plt.figure(figsize=(16, 8))\n",
    "plt.plot(acc.result, color='teal', label='test_accuracy') # to edit\n",
    "plt.suptitle('Model accuracy comparison on test', fontsize=14)\n",
    "plt.legend(loc=\"upper left\")\n",
    "plt.show()"
   ]
  },
  {
   "cell_type": "markdown",
   "metadata": {},
   "source": [
    "## **Fine-Tuning**"
   ]
  },
  {
   "cell_type": "markdown",
   "metadata": {},
   "source": [
    "## **Deployment**"
   ]
  },
  {
   "cell_type": "code",
   "execution_count": null,
   "metadata": {},
   "outputs": [],
   "source": []
  },
  {
   "cell_type": "markdown",
   "metadata": {},
   "source": [
    "##valutazioni da fare poi:\n",
    "- regularization per ridurre l'overfitting?\n",
    "- il numero di images cambia da classe  a classe (train) vedere se serve prenderne un numero uguale per ciascuna classe\n",
    "- "
   ]
  }
 ],
 "metadata": {
  "kernelspec": {
   "display_name": "Python 3",
   "language": "python",
   "name": "python3"
  },
  "language_info": {
   "codemirror_mode": {
    "name": "ipython",
    "version": 3
   },
   "file_extension": ".py",
   "mimetype": "text/x-python",
   "name": "python",
   "nbconvert_exporter": "python",
   "pygments_lexer": "ipython3",
   "version": "3.10.12"
  }
 },
 "nbformat": 4,
 "nbformat_minor": 2
}
